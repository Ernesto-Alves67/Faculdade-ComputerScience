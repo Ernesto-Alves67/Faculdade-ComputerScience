{
 "cells": [
  {
   "cell_type": "markdown",
   "id": "4daa5004-03fb-424b-ae7b-8c8f2fd73bc3",
   "metadata": {},
   "source": [
    "# Histograma de imagem\n",
    "\n",
    "- Consiste em um grafico em forma de histograma, contendo caracteristicas da imagen como cor"
   ]
  },
  {
   "cell_type": "markdown",
   "id": "2d804727-1b31-4be5-9aa2-08d4e83366a1",
   "metadata": {},
   "source": [
    "# Limiarização\n",
    "\n",
    "- O objetivo da __limiarização__ é segmentar a imagem em regiões de interesse com base nos níveis de intensidade dos pixels. Isso é feito definindo um limite, chamado de limiar, e classificando os pixels da imagem com intensidade abaixo desse limiar como preto e os pixels com intensidade acima do limiar como branco.\n",
    "\n",
    "- O __processo de limiarização__ pode ser útil em várias aplicações, como segmentação de objetos, detecção de bordas, remoção de ruído e reconhecimento de padrões. Ele permite destacar objetos de interesse em uma imagem e simplificar a análise de características importantes.\n",
    "\n",
    "- Existem diferentes __métodos de limiarização__, que variam na forma como o limiar é determinado e aplicado à imagem. Alguns métodos comuns incluem limiarização global, onde um único limiar é aplicado a toda a imagem, e limiarização local, onde diferentes limiares são aplicados a diferentes regiões da imagem."
   ]
  },
  {
   "cell_type": "code",
   "execution_count": null,
   "id": "f595330b-1ab2-4776-a357-3cd11fc92a46",
   "metadata": {},
   "outputs": [],
   "source": []
  }
 ],
 "metadata": {
  "kernelspec": {
   "display_name": "Python 3 (ipykernel)",
   "language": "python",
   "name": "python3"
  },
  "language_info": {
   "codemirror_mode": {
    "name": "ipython",
    "version": 3
   },
   "file_extension": ".py",
   "mimetype": "text/x-python",
   "name": "python",
   "nbconvert_exporter": "python",
   "pygments_lexer": "ipython3",
   "version": "3.11.7"
  }
 },
 "nbformat": 4,
 "nbformat_minor": 5
}
